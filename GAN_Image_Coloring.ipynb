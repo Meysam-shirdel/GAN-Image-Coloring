{
  "cells": [
    {
      "cell_type": "markdown",
      "metadata": {
        "id": "view-in-github",
        "colab_type": "text"
      },
      "source": [
        "<a href=\"https://colab.research.google.com/github/Meysam-shirdel/GAN-Image-Coloring/blob/main/GAN_Image_Coloring.ipynb\" target=\"_parent\"><img src=\"https://colab.research.google.com/assets/colab-badge.svg\" alt=\"Open In Colab\"/></a>"
      ]
    },
    {
      "cell_type": "markdown",
      "metadata": {
        "id": "VrFCH9hpEyip"
      },
      "source": [
        "# 🔴 **Environment Setup**"
      ]
    },
    {
      "cell_type": "markdown",
      "metadata": {
        "id": "uWoVZ_MuKif0"
      },
      "source": [
        "## 🟠 Install Libraries"
      ]
    },
    {
      "cell_type": "code",
      "execution_count": null,
      "metadata": {
        "id": "TjgdGoWmKYwV"
      },
      "outputs": [],
      "source": [
        "!pip install -q portalocker>=2.0.0\n",
        "!pip install -q torchmetrics\n",
        "!pip install wandb"
      ]
    },
    {
      "cell_type": "markdown",
      "metadata": {
        "id": "w_a3OXnSeV0z"
      },
      "source": [
        "# 🔴 **Import Libs**"
      ]
    },
    {
      "cell_type": "code",
      "execution_count": null,
      "metadata": {
        "id": "vhlVJEkJeTsV"
      },
      "outputs": [],
      "source": [
        "import os\n",
        "from glob import glob\n",
        "import random\n",
        "from pathlib import Path\n",
        "from typing import Any, Callable, Dict, List, Optional, Tuple\n",
        "from pathlib import Path\n",
        "\n",
        "import numpy as np\n",
        "import matplotlib.pyplot as plt\n",
        "import pandas as pd\n",
        "\n",
        "import PIL\n",
        "from PIL import Image\n",
        "import cv2\n",
        "\n",
        "import torch\n",
        "from torch.utils.data import DataLoader, Dataset, random_split\n",
        "from torch import optim\n",
        "from torch import nn\n",
        "from torch.nn import functional as F\n",
        "\n",
        "import torchvision\n",
        "from torchvision import io\n",
        "from torchvision.transforms import v2\n",
        "import torchvision.transforms.functional as F\n",
        "from torchvision.datasets import VisionDataset\n",
        "from torchvision import tv_tensors\n",
        "from torchvision.utils import make_grid\n",
        "\n",
        "import torchtext\n",
        "from torchtext.vocab import build_vocab_from_iterator\n",
        "\n",
        "import tqdm\n",
        "import torchmetrics as tm\n",
        "from torchmetrics import MeanMetric"
      ]
    },
    {
      "cell_type": "markdown",
      "metadata": {
        "id": "RwaY_YcgRayy"
      },
      "source": [
        "# 🔴 **Utils**"
      ]
    },
    {
      "cell_type": "code",
      "execution_count": null,
      "metadata": {
        "id": "PpKbTUEIRayz"
      },
      "outputs": [],
      "source": [
        "def num_trainable_params(model):\n",
        "  nums = sum(p.numel() for p in model.parameters() if p.requires_grad)/1e6\n",
        "  return nums"
      ]
    },
    {
      "cell_type": "code",
      "execution_count": null,
      "metadata": {
        "id": "6w6sLRLfw398"
      },
      "outputs": [],
      "source": [
        "def set_seed(seed):\n",
        "  np.random.seed(seed)\n",
        "  torch.manual_seed(seed)\n",
        "  if torch.cuda.is_available():\n",
        "      torch.cuda.manual_seed(seed)\n",
        "      # torch.cuda.manual_seed_all(seed)\n",
        "\n",
        "      # torch.backends.cudnn.deterministic = True\n",
        "      # torch.backends.cudnn.benchmark = False\n"
      ]
    },
    {
      "cell_type": "code",
      "execution_count": null,
      "metadata": {
        "id": "iib8g2m1-eg9"
      },
      "outputs": [],
      "source": [
        "def time_for_each_batch(loader):\n",
        "  start = time.time()\n",
        "  for iter, (img, mask) in enumerate(loader, 1):\n",
        "    continue\n",
        "  end = time.time()\n",
        "  total_time = end - start\n",
        "  return total_time, total_time/len(loader)"
      ]
    },
    {
      "cell_type": "markdown",
      "metadata": {
        "id": "pwlVLNJXfUJw"
      },
      "source": [
        "# 🔴 **Arguments**"
      ]
    },
    {
      "cell_type": "code",
      "execution_count": null,
      "metadata": {
        "id": "BqPVGv0TfUKE"
      },
      "outputs": [],
      "source": [
        "seed = 8\n",
        "wandb_enable = False\n",
        "device = 'cuda' if torch.cuda.is_available() else 'cpu'\n",
        "\n",
        "root = Path('data/v0.3/processed/')\n",
        "\n",
        "batch_size = 10"
      ]
    },
    {
      "cell_type": "code",
      "execution_count": null,
      "metadata": {
        "id": "SXOG_oXwrICX"
      },
      "outputs": [],
      "source": [
        "if wandb_enable:\n",
        "  wandb_arg_name = input('Please input the WandB argument (run) name:')\n",
        "  print(wandb_arg_name)"
      ]
    },
    {
      "cell_type": "markdown",
      "metadata": {
        "id": "3in1e9BksgIh"
      },
      "source": [
        "## 🟠 Change the font size of the output cells"
      ]
    },
    {
      "cell_type": "code",
      "execution_count": null,
      "metadata": {
        "colab": {
          "base_uri": "https://localhost:8080/"
        },
        "id": "1_nYkVog8SUR",
        "outputId": "8bc6bdec-bd7a-497d-ad25-c2d00dfd56f2"
      },
      "outputs": [
        {
          "name": "stdout",
          "output_type": "stream",
          "text": [
            "Salam Howsam!\n"
          ]
        }
      ],
      "source": [
        "print('Salam Howsam!')"
      ]
    },
    {
      "cell_type": "code",
      "execution_count": null,
      "metadata": {
        "id": "BmMM0EfKsSiO"
      },
      "outputs": [],
      "source": [
        "from IPython.display import HTML\n",
        "shell = get_ipython()\n",
        "\n",
        "def adjust_font_size():\n",
        "  display(HTML('''<style>\n",
        "    body {\n",
        "      font-size: 24px;\n",
        "    }\n",
        "  '''))\n",
        "\n",
        "if adjust_font_size not in shell.events.callbacks['pre_execute']:\n",
        "  shell.events.register('pre_execute', adjust_font_size)"
      ]
    },
    {
      "cell_type": "code",
      "execution_count": null,
      "metadata": {
        "colab": {
          "base_uri": "https://localhost:8080/"
        },
        "id": "10N1yUE88XRW",
        "outputId": "10e380c5-31b6-4688-9a60-d8d2691b1548"
      },
      "outputs": [
        {
          "data": {
            "text/html": [
              "<style>\n",
              "    body {\n",
              "      font-size: 24px;\n",
              "    }\n",
              "  "
            ],
            "text/plain": [
              "<IPython.core.display.HTML object>"
            ]
          },
          "metadata": {},
          "output_type": "display_data"
        },
        {
          "name": "stdout",
          "output_type": "stream",
          "text": [
            "Salam Howsam!\n"
          ]
        }
      ],
      "source": [
        "print('Salam Howsam!')"
      ]
    },
    {
      "cell_type": "markdown",
      "metadata": {
        "id": "RTql4Ftiunfr"
      },
      "source": [
        "# 🔴 **Dataset**"
      ]
    },
    {
      "cell_type": "markdown",
      "metadata": {
        "id": "ujIVtjsYvxOI"
      },
      "source": [
        "## 🟠 Create Dataset!"
      ]
    },
    {
      "cell_type": "code",
      "execution_count": null,
      "metadata": {
        "id": "fEZv0QLDOKjC"
      },
      "outputs": [],
      "source": []
    },
    {
      "cell_type": "markdown",
      "metadata": {
        "id": "4xY15BCOWsdT"
      },
      "source": [
        "## 🟠 Load a Sample Data"
      ]
    },
    {
      "cell_type": "code",
      "execution_count": null,
      "metadata": {
        "colab": {
          "base_uri": "https://localhost:8080/",
          "height": 48
        },
        "id": "rEBp98wvgICO",
        "outputId": "6a8d9668-f631-47e1-fb15-993b05e78ef1"
      },
      "outputs": [
        {
          "data": {
            "text/html": [
              "<style>\n",
              "    body {\n",
              "      font-size: 24px;\n",
              "    }\n",
              "  "
            ],
            "text/plain": [
              "<IPython.core.display.HTML object>"
            ]
          },
          "metadata": {},
          "output_type": "display_data"
        },
        {
          "data": {
            "text/plain": [
              "WindowsPath('data/v0.3/processed/train/metadata.csv')"
            ]
          },
          "execution_count": 31,
          "metadata": {},
          "output_type": "execute_result"
        }
      ],
      "source": [
        "root / 'train' / 'metadata.csv'"
      ]
    },
    {
      "cell_type": "code",
      "execution_count": null,
      "metadata": {
        "colab": {
          "base_uri": "https://localhost:8080/",
          "height": 371
        },
        "id": "CQrFJGjjd5Pq",
        "outputId": "12ea7e3f-3ee4-4d5c-889b-9881cc863988"
      },
      "outputs": [
        {
          "data": {
            "text/html": [
              "<style>\n",
              "    body {\n",
              "      font-size: 24px;\n",
              "    }\n",
              "  "
            ],
            "text/plain": [
              "<IPython.core.display.HTML object>"
            ]
          },
          "metadata": {},
          "output_type": "display_data"
        },
        {
          "data": {
            "text/html": [
              "<div>\n",
              "<style scoped>\n",
              "    .dataframe tbody tr th:only-of-type {\n",
              "        vertical-align: middle;\n",
              "    }\n",
              "\n",
              "    .dataframe tbody tr th {\n",
              "        vertical-align: top;\n",
              "    }\n",
              "\n",
              "    .dataframe thead th {\n",
              "        text-align: right;\n",
              "    }\n",
              "</style>\n",
              "<table border=\"1\" class=\"dataframe\">\n",
              "  <thead>\n",
              "    <tr style=\"text-align: right;\">\n",
              "      <th></th>\n",
              "      <th>input</th>\n",
              "      <th>target</th>\n",
              "      <th>hair</th>\n",
              "      <th>shirt</th>\n",
              "    </tr>\n",
              "  </thead>\n",
              "  <tbody>\n",
              "    <tr>\n",
              "      <th>0</th>\n",
              "      <td>0001.bmp</td>\n",
              "      <td>0001.bmp</td>\n",
              "      <td>blue</td>\n",
              "      <td>blue</td>\n",
              "    </tr>\n",
              "    <tr>\n",
              "      <th>1</th>\n",
              "      <td>0001.bmp</td>\n",
              "      <td>0002.bmp</td>\n",
              "      <td>blue</td>\n",
              "      <td>brown</td>\n",
              "    </tr>\n",
              "    <tr>\n",
              "      <th>2</th>\n",
              "      <td>0001.bmp</td>\n",
              "      <td>0003.bmp</td>\n",
              "      <td>blue</td>\n",
              "      <td>red</td>\n",
              "    </tr>\n",
              "    <tr>\n",
              "      <th>3</th>\n",
              "      <td>0001.bmp</td>\n",
              "      <td>0004.bmp</td>\n",
              "      <td>blue</td>\n",
              "      <td>yellow</td>\n",
              "    </tr>\n",
              "    <tr>\n",
              "      <th>4</th>\n",
              "      <td>0001.bmp</td>\n",
              "      <td>0005.bmp</td>\n",
              "      <td>blue</td>\n",
              "      <td>green</td>\n",
              "    </tr>\n",
              "  </tbody>\n",
              "</table>\n",
              "</div>"
            ],
            "text/plain": [
              "      input    target  hair   shirt\n",
              "0  0001.bmp  0001.bmp  blue    blue\n",
              "1  0001.bmp  0002.bmp  blue   brown\n",
              "2  0001.bmp  0003.bmp  blue     red\n",
              "3  0001.bmp  0004.bmp  blue  yellow\n",
              "4  0001.bmp  0005.bmp  blue   green"
            ]
          },
          "metadata": {},
          "output_type": "display_data"
        },
        {
          "data": {
            "text/plain": [
              "(250, 4)"
            ]
          },
          "execution_count": 32,
          "metadata": {},
          "output_type": "execute_result"
        }
      ],
      "source": [
        "df = pd.read_csv(root / 'train' / 'metadata.csv')\n",
        "display(df.head())\n",
        "df.shape"
      ]
    },
    {
      "cell_type": "code",
      "execution_count": null,
      "metadata": {
        "colab": {
          "base_uri": "https://localhost:8080/",
          "height": 293
        },
        "id": "ShYpXvVzVmP6",
        "outputId": "2b8c4a23-ed78-4942-b41e-6d8ff443d62c"
      },
      "outputs": [
        {
          "data": {
            "text/html": [
              "<style>\n",
              "    body {\n",
              "      font-size: 24px;\n",
              "    }\n",
              "  "
            ],
            "text/plain": [
              "<IPython.core.display.HTML object>"
            ]
          },
          "metadata": {},
          "output_type": "display_data"
        },
        {
          "name": "stdout",
          "output_type": "stream",
          "text": [
            "Hair: blue, Shirt: red\n"
          ]
        },
        {
          "data": {
            "image/png": "[encoded data removed]",
            "text/plain": [
              "<Figure size 640x480 with 2 Axes>"
            ]
          },
          "metadata": {},
          "output_type": "display_data"
        }
      ],
      "source": [
        "idx = random.randint(0, df.shape[0])\n",
        "sample = df.iloc[idx]\n",
        "\n",
        "# root / 'train/inputs' / sample['input']\n",
        "# str(root / 'train/inputs' / sample['input'])\n",
        "src = cv2.imread(str(root / 'train/inputs' / sample['input']))\n",
        "tgt = cv2.imread(str(root / 'train/targets' / sample['target']))\n",
        "tgt = cv2.cvtColor(tgt, cv2.COLOR_BGR2RGB)\n",
        "\n",
        "print(f\"Hair: {sample['hair']}, Shirt: {sample['shirt']}\")\n",
        "\n",
        "fig, axes = plt.subplots(1, 2)\n",
        "axes[0].imshow(src)\n",
        "axes[0].axis('off')\n",
        "axes[1].imshow(tgt)\n",
        "axes[1].axis('off');"
      ]
    },
    {
      "cell_type": "markdown",
      "metadata": {
        "id": "D-y52c_Ugeqv"
      },
      "source": [
        "## 🟠 Work with Text Conditions"
      ]
    },
    {
      "cell_type": "code",
      "execution_count": null,
      "metadata": {
        "colab": {
          "base_uri": "https://localhost:8080/",
          "height": 68
        },
        "id": "51Q51VRM-y-A",
        "outputId": "1eac039b-45ef-401b-89f4-f7ca4b310633"
      },
      "outputs": [
        {
          "data": {
            "text/html": [
              "<style>\n",
              "    body {\n",
              "      font-size: 24px;\n",
              "    }\n",
              "  "
            ],
            "text/plain": [
              "<IPython.core.display.HTML object>"
            ]
          },
          "metadata": {},
          "output_type": "display_data"
        },
        {
          "name": "stdout",
          "output_type": "stream",
          "text": [
            "['blue', 'blue', 'blue', 'blue', 'blue', 'brown', 'brown', 'brown', 'brown', 'brown', 'red', 'red', 'red', 'red', 'red', 'yellow', 'yellow', 'yellow', 'yellow', 'yellow', 'green', 'green', 'green', 'green', 'green', 'blue', 'blue', 'blue', 'blue', 'blue', 'brown', 'brown', 'brown', 'brown', 'brown', 'red', 'red', 'red', 'red', 'red', 'yellow', 'yellow', 'yellow', 'yellow', 'yellow', 'green', 'green', 'green', 'green', 'green', 'blue', 'blue', 'blue', 'blue', 'blue', 'brown', 'brown', 'brown', 'brown', 'brown', 'red', 'red', 'red', 'red', 'red', 'yellow', 'yellow', 'yellow', 'yellow', 'yellow', 'green', 'green', 'green', 'green', 'green', 'blue', 'blue', 'blue', 'blue', 'blue', 'brown', 'brown', 'brown', 'brown', 'brown', 'red', 'red', 'red', 'red', 'red', 'yellow', 'yellow', 'yellow', 'yellow', 'yellow', 'green', 'green', 'green', 'green', 'green', 'blue', 'blue', 'blue', 'blue', 'blue', 'brown', 'brown', 'brown', 'brown', 'brown', 'red', 'red', 'red', 'red', 'red', 'yellow', 'yellow', 'yellow', 'yellow', 'yellow', 'green', 'green', 'green', 'green', 'green', 'blue', 'blue', 'blue', 'blue', 'blue', 'brown', 'brown', 'brown', 'brown', 'brown', 'red', 'red', 'red', 'red', 'red', 'yellow', 'yellow', 'yellow', 'yellow', 'yellow', 'green', 'green', 'green', 'green', 'green', 'blue', 'blue', 'blue', 'blue', 'blue', 'brown', 'brown', 'brown', 'brown', 'brown', 'red', 'red', 'red', 'red', 'red', 'yellow', 'yellow', 'yellow', 'yellow', 'yellow', 'green', 'green', 'green', 'green', 'green', 'blue', 'blue', 'blue', 'blue', 'blue', 'brown', 'brown', 'brown', 'brown', 'brown', 'red', 'red', 'red', 'red', 'red', 'yellow', 'yellow', 'yellow', 'yellow', 'yellow', 'green', 'green', 'green', 'green', 'green', 'blue', 'blue', 'blue', 'blue', 'blue', 'brown', 'brown', 'brown', 'brown', 'brown', 'red', 'red', 'red', 'red', 'red', 'yellow', 'yellow', 'yellow', 'yellow', 'yellow', 'green', 'green', 'green', 'green', 'green', 'blue', 'blue', 'blue', 'blue', 'blue', 'brown', 'brown', 'brown', 'brown', 'brown', 'red', 'red', 'red', 'red', 'red', 'yellow', 'yellow', 'yellow', 'yellow', 'yellow', 'green', 'green', 'green', 'green', 'green']\n"
          ]
        }
      ],
      "source": [
        "conditions = df['hair'].tolist()\n",
        "print(conditions)"
      ]
    },
    {
      "cell_type": "code",
      "execution_count": null,
      "metadata": {
        "colab": {
          "base_uri": "https://localhost:8080/",
          "height": 48
        },
        "id": "JfcF_Vrl-mnl",
        "outputId": "25d562a1-1b59-452f-c70a-25cf0adbea0b"
      },
      "outputs": [
        {
          "data": {
            "text/html": [
              "<style>\n",
              "    body {\n",
              "      font-size: 24px;\n",
              "    }\n",
              "  "
            ],
            "text/plain": [
              "<IPython.core.display.HTML object>"
            ]
          },
          "metadata": {},
          "output_type": "display_data"
        },
        {
          "data": {
            "text/plain": [
              "{'blue': 0, 'brown': 1, 'red': 3, 'green': 2, 'yellow': 4}"
            ]
          },
          "execution_count": 78,
          "metadata": {},
          "output_type": "execute_result"
        }
      ],
      "source": [
        "vocab = build_vocab_from_iterator([conditions])\n",
        "vocab.get_stoi()"
      ]
    },
    {
      "cell_type": "code",
      "execution_count": null,
      "metadata": {
        "colab": {
          "base_uri": "https://localhost:8080/",
          "height": 48
        },
        "id": "FaSjt_PoBAfl",
        "outputId": "6800db0f-f622-4f94-e189-5664d3418302"
      },
      "outputs": [
        {
          "data": {
            "text/html": [
              "<style>\n",
              "    body {\n",
              "      font-size: 24px;\n",
              "    }\n",
              "  "
            ],
            "text/plain": [
              "<IPython.core.display.HTML object>"
            ]
          },
          "metadata": {},
          "output_type": "display_data"
        },
        {
          "data": {
            "text/plain": [
              "(tensor([1., 0., 0., 0., 0.]), tensor([0., 0., 0., 1., 0.]))"
            ]
          },
          "execution_count": 85,
          "metadata": {},
          "output_type": "execute_result"
        }
      ],
      "source": [
        "embeds = torch.eye(len(vocab))\n",
        "\n",
        "hair_idx, shirt_idx = vocab[sample['hair']], vocab[sample['shirt']]\n",
        "\n",
        "embeds[hair_idx], embeds[shirt_idx]"
      ]
    },
    {
      "cell_type": "markdown",
      "metadata": {
        "id": "B29jrEvwRqXA"
      },
      "source": [
        "## 🟠 EDA"
      ]
    },
    {
      "cell_type": "code",
      "execution_count": null,
      "metadata": {
        "id": "WzPZCjEUOLdr"
      },
      "outputs": [],
      "source": []
    },
    {
      "cell_type": "markdown",
      "metadata": {
        "id": "PgLgP04P4-aX"
      },
      "source": [
        "## 🟠 Custom dataset"
      ]
    },
    {
      "cell_type": "code",
      "execution_count": null,
      "metadata": {
        "colab": {
          "base_uri": "https://localhost:8080/",
          "height": 17
        },
        "id": "PcywOrKK9vzP",
        "outputId": "51b17665-b749-4505-c936-ad5084d41734"
      },
      "outputs": [
        {
          "data": {
            "text/html": [
              "<style>\n",
              "    body {\n",
              "      font-size: 24px;\n",
              "    }\n",
              "  "
            ],
            "text/plain": [
              "<IPython.core.display.HTML object>"
            ]
          },
          "metadata": {},
          "output_type": "display_data"
        }
      ],
      "source": [
        "class ImageTranslationDataset(VisionDataset):\n",
        "\n",
        "  def __init__(self, root: str,\n",
        "               transforms: Optional[Callable] = None,\n",
        "               memory: bool = False):\n",
        "\n",
        "    super().__init__(root, transforms=transforms)\n",
        "\n",
        "    self.input_folder = root / 'inputs'\n",
        "    self.target_folder = root / 'targets'\n",
        "\n",
        "    self.df = pd.read_csv(root / 'metadata.csv')\n",
        "    metadata = self.df['hair'].tolist()\n",
        "    self.vocab = build_vocab_from_iterator([metadata])\n",
        "    self.embeds = torch.eye(len(self.vocab))\n",
        "\n",
        "  def __len__(self):\n",
        "    return self.df.shape[0]\n",
        "\n",
        "  def __getitem__(self, idx):\n",
        "    #\n",
        "    sample = self.df.iloc[idx]\n",
        "\n",
        "    input_image = self._load_image(self.input_folder / sample['input'])\n",
        "    target_image = self._load_image(self.target_folder / sample['target'])\n",
        "\n",
        "    hair, shirt = sample['hair'], sample['shirt']\n",
        "    condition = self.embeds[[self.vocab[hair], self.vocab[shirt]]]\n",
        "    condition = condition.view(-1, 1, 1)\n",
        "\n",
        "    input_image, target_image = self.transforms(input_image, target_image)\n",
        "\n",
        "    return input_image, target_image, condition\n",
        "\n",
        "  def _load_image(self, path):\n",
        "    img = Image.open(path)\n",
        "    return tv_tensors.Image(img)\n",
        "\n",
        "  def __repr__(self):\n",
        "    return f'Number of datapoints: {self.__len__()}'\n"
      ]
    },
    {
      "cell_type": "markdown",
      "metadata": {
        "id": "E69x9RlblL94"
      },
      "source": [
        "### 🟡 Final"
      ]
    },
    {
      "cell_type": "code",
      "execution_count": null,
      "metadata": {
        "colab": {
          "base_uri": "https://localhost:8080/"
        },
        "id": "Yp4IWRVUlYIf",
        "outputId": "95dee9f1-3f43-4a38-ee82-a38a8ac93127"
      },
      "outputs": [
        {
          "data": {
            "text/html": [
              "<style>\n",
              "    body {\n",
              "      font-size: 24px;\n",
              "    }\n",
              "  "
            ],
            "text/plain": [
              "<IPython.core.display.HTML object>"
            ]
          },
          "metadata": {},
          "output_type": "display_data"
        }
      ],
      "source": [
        "transform_train = v2.Compose([\n",
        "    v2.Resize(size=(256, 256), antialias=True),\n",
        "    v2.RandomHorizontalFlip(p=0.5),\n",
        "    v2.ToDtype(dtype=torch.float32, scale=True),\n",
        "    v2.Normalize(mean=(0.5,), std=(0.5,)),\n",
        "    ])\n",
        "\n",
        "transform_valid = v2.Compose([\n",
        "    v2.Resize(size=(256, 256), antialias=True),\n",
        "    v2.ToDtype(dtype=torch.float32, scale=True),\n",
        "    v2.Normalize(mean=(0.5,), std=(0.5,)),\n",
        "    ])"
      ]
    },
    {
      "cell_type": "code",
      "execution_count": null,
      "metadata": {
        "colab": {
          "base_uri": "https://localhost:8080/"
        },
        "id": "S0g4e-BLlOf1",
        "outputId": "ffcfe923-abb7-4089-b0e3-d6fdf2a46af9"
      },
      "outputs": [
        {
          "data": {
            "text/html": [
              "<style>\n",
              "    body {\n",
              "      font-size: 24px;\n",
              "    }\n",
              "  "
            ],
            "text/plain": [
              "<IPython.core.display.HTML object>"
            ]
          },
          "metadata": {},
          "output_type": "display_data"
        },
        {
          "data": {
            "text/plain": [
              "(Number of datapoints: 250, Number of datapoints: 100)"
            ]
          },
          "execution_count": 15,
          "metadata": {},
          "output_type": "execute_result"
        }
      ],
      "source": [
        "train_set = ImageTranslationDataset(root / 'train', transform_train)\n",
        "valid_set = ImageTranslationDataset(root / 'test', transform_valid)\n",
        "train_set, valid_set"
      ]
    },
    {
      "cell_type": "code",
      "execution_count": null,
      "metadata": {
        "colab": {
          "base_uri": "https://localhost:8080/"
        },
        "id": "OGVUc6bFoBAk",
        "outputId": "445733bf-35a6-4079-c959-d792a62abcba"
      },
      "outputs": [
        {
          "data": {
            "text/html": [
              "<style>\n",
              "    body {\n",
              "      font-size: 24px;\n",
              "    }\n",
              "  "
            ],
            "text/plain": [
              "<IPython.core.display.HTML object>"
            ]
          },
          "metadata": {},
          "output_type": "display_data"
        },
        {
          "name": "stderr",
          "output_type": "stream",
          "text": [
            "Clipping input data to the valid range for imshow with RGB data ([0..1] for floats or [0..255] for integers).\n",
            "Clipping input data to the valid range for imshow with RGB data ([0..1] for floats or [0..255] for integers).\n"
          ]
        },
        {
          "name": "stdout",
          "output_type": "stream",
          "text": [
            "torch.Size([10, 1, 1])\n"
          ]
        },
        {
          "data": {
            "image/png": "[encoded data removed]",
            "text/plain": [
              "<Figure size 640x480 with 2 Axes>"
            ]
          },
          "metadata": {},
          "output_type": "display_data"
        }
      ],
      "source": [
        "idx = random.randint(0, len(train_set)-1)\n",
        "src, tgt, vecs = train_set[idx]\n",
        "\n",
        "fig, axes = plt.subplots(1, 2)\n",
        "axes[0].imshow(src.permute(1, 2, 0)), axes[0].axis('off')\n",
        "axes[1].imshow(tgt.permute(1, 2, 0)), axes[1].axis('off');\n",
        "\n",
        "print(vecs.shape)"
      ]
    },
    {
      "cell_type": "markdown",
      "metadata": {
        "id": "NCQjacybOfqV"
      },
      "source": [
        "## 🟠 Dataloader"
      ]
    },
    {
      "cell_type": "code",
      "execution_count": null,
      "metadata": {
        "colab": {
          "base_uri": "https://localhost:8080/",
          "height": 17
        },
        "id": "KMCJ3UMD0U_f",
        "outputId": "b87dc879-f4ef-4b4a-9e11-a1fbef9669c7"
      },
      "outputs": [
        {
          "data": {
            "text/html": [
              "<style>\n",
              "    body {\n",
              "      font-size: 24px;\n",
              "    }\n",
              "  "
            ],
            "text/plain": [
              "<IPython.core.display.HTML object>"
            ]
          },
          "metadata": {},
          "output_type": "display_data"
        }
      ],
      "source": [
        "train_loader = DataLoader(train_set, batch_size=batch_size, shuffle=True)\n",
        "valid_loader = DataLoader(valid_set, batch_size=batch_size, shuffle=True)"
      ]
    },
    {
      "cell_type": "code",
      "execution_count": null,
      "metadata": {
        "colab": {
          "base_uri": "https://localhost:8080/",
          "height": 109
        },
        "id": "aoq9oJ2HoPnm",
        "outputId": "ab8dc3f9-721b-4527-ebd1-3d74d42ef76f"
      },
      "outputs": [
        {
          "data": {
            "text/html": [
              "<style>\n",
              "    body {\n",
              "      font-size: 24px;\n",
              "    }\n",
              "  "
            ],
            "text/plain": [
              "<IPython.core.display.HTML object>"
            ]
          },
          "metadata": {},
          "output_type": "display_data"
        },
        {
          "data": {
            "text/plain": [
              "(torch.Size([10, 3, 256, 256]),\n",
              " torch.Size([10, 3, 256, 256]),\n",
              " torch.Size([10, 10, 1, 1]))"
            ]
          },
          "execution_count": 18,
          "metadata": {},
          "output_type": "execute_result"
        }
      ],
      "source": [
        "imgs, tgts, txts = next(iter(train_loader))\n",
        "imgs.shape, tgts.shape, txts.shape"
      ]
    },
    {
      "cell_type": "code",
      "execution_count": null,
      "metadata": {
        "colab": {
          "base_uri": "https://localhost:8080/",
          "height": 109
        },
        "id": "oX_G-VGcZnS6",
        "outputId": "002df076-0771-4ace-b0a3-bfcc01940174"
      },
      "outputs": [
        {
          "data": {
            "text/html": [
              "<style>\n",
              "    body {\n",
              "      font-size: 24px;\n",
              "    }\n",
              "  "
            ],
            "text/plain": [
              "<IPython.core.display.HTML object>"
            ]
          },
          "metadata": {},
          "output_type": "display_data"
        },
        {
          "data": {
            "text/plain": [
              "(torch.Size([10, 3, 256, 256]),\n",
              " torch.Size([10, 3, 256, 256]),\n",
              " torch.Size([10, 10, 1, 1]))"
            ]
          },
          "execution_count": 19,
          "metadata": {},
          "output_type": "execute_result"
        }
      ],
      "source": [
        "imgs, tgts, txts = next(iter(valid_loader))\n",
        "imgs.shape, tgts.shape, txts.shape"
      ]
    },
    {
      "cell_type": "markdown",
      "metadata": {
        "id": "3ttl0AK3Hvyh"
      },
      "source": [
        "# 🔴 **Model**"
      ]
    },
    {
      "cell_type": "markdown",
      "metadata": {
        "id": "nk32EYskO6Qx"
      },
      "source": [
        "## 🟠 Generator"
      ]
    },
    {
      "cell_type": "markdown",
      "metadata": {
        "id": "z49xUsNEPKmC"
      },
      "source": [
        "### 🟡 Encoder block"
      ]
    },
    {
      "cell_type": "code",
      "execution_count": null,
      "metadata": {
        "colab": {
          "base_uri": "https://localhost:8080/",
          "height": 17
        },
        "id": "KaU3fJUjOvQP",
        "outputId": "1c33b293-8b94-474c-cbfc-5edc2cddc6d4"
      },
      "outputs": [
        {
          "data": {
            "text/html": [
              "<style>\n",
              "    body {\n",
              "      font-size: 24px;\n",
              "    }\n",
              "  "
            ],
            "text/plain": [
              "<IPython.core.display.HTML object>"
            ]
          },
          "metadata": {},
          "output_type": "display_data"
        }
      ],
      "source": [
        "class EncoderBlock(nn.Module):\n",
        "\n",
        "  def __init__(self, in_channels, out_channels, kernel_size=4, batchnorm=True):\n",
        "    super().__init__()\n",
        "    self.conv = nn.Conv2d(in_channels, out_channels, kernel_size, stride=2, padding=1, bias=False)\n",
        "    self.bn = nn.BatchNorm2d(out_channels) if batchnorm else None\n",
        "    self.af = nn.LeakyReLU(0.2, inplace=True)\n",
        "\n",
        "  def forward(self, x):\n",
        "    x = self.conv(x)\n",
        "    if self.bn:\n",
        "      x = self.bn(x)\n",
        "    x = self.af(x)\n",
        "    return x"
      ]
    },
    {
      "cell_type": "code",
      "execution_count": null,
      "metadata": {
        "colab": {
          "base_uri": "https://localhost:8080/"
        },
        "id": "dkAE87sOPRJN",
        "outputId": "f7021ad7-68f6-4853-b3d1-806e6b27b0da"
      },
      "outputs": [
        {
          "data": {
            "text/html": [
              "<style>\n",
              "    body {\n",
              "      font-size: 24px;\n",
              "    }\n",
              "  "
            ],
            "text/plain": [
              "<IPython.core.display.HTML object>"
            ]
          },
          "metadata": {},
          "output_type": "display_data"
        },
        {
          "data": {
            "text/plain": [
              "torch.Size([1, 64, 128, 128])"
            ]
          },
          "execution_count": 20,
          "metadata": {},
          "output_type": "execute_result"
        }
      ],
      "source": [
        "encoder_block = EncoderBlock(in_channels=3, out_channels=64, kernel_size=4, batchnorm=True)\n",
        "with torch.no_grad():\n",
        "  tmp = encoder_block(torch.randn(1, 3, 256, 256))\n",
        "tmp.shape"
      ]
    },
    {
      "cell_type": "markdown",
      "metadata": {
        "id": "bYc5TksuPQks"
      },
      "source": [
        "### 🟡 Decoder block"
      ]
    },
    {
      "cell_type": "code",
      "execution_count": null,
      "metadata": {
        "colab": {
          "base_uri": "https://localhost:8080/",
          "height": 17
        },
        "id": "Ba0cKGo0Owb0",
        "outputId": "d68b8893-188b-4d6f-f8fa-c462800bd1ae"
      },
      "outputs": [
        {
          "data": {
            "text/html": [
              "<style>\n",
              "    body {\n",
              "      font-size: 24px;\n",
              "    }\n",
              "  "
            ],
            "text/plain": [
              "<IPython.core.display.HTML object>"
            ]
          },
          "metadata": {},
          "output_type": "display_data"
        }
      ],
      "source": [
        "class DecoderBlock(nn.Module):\n",
        "\n",
        "  def __init__(self, in_channels, out_channels, kernel_size=4, dropout=False):\n",
        "    super().__init__()\n",
        "    self.tconv = nn.ConvTranspose2d(in_channels, out_channels, kernel_size, stride=2, padding=1, bias=False)\n",
        "    self.bn = nn.BatchNorm2d(out_channels)\n",
        "    self.dropout = nn.Dropout(0.5) if dropout else None\n",
        "    self.af = nn.ReLU()\n",
        "\n",
        "  def forward(self, x):\n",
        "    x = self.tconv(x)\n",
        "    x = self.bn(x)\n",
        "    if self.dropout:\n",
        "      x = self.dropout(x)\n",
        "    x = self.af(x)\n",
        "    return x"
      ]
    },
    {
      "cell_type": "code",
      "execution_count": null,
      "metadata": {
        "colab": {
          "base_uri": "https://localhost:8080/"
        },
        "id": "wRRcVIqx9xyt",
        "outputId": "4f7240f0-8692-4baf-b522-86edae1d1911"
      },
      "outputs": [
        {
          "data": {
            "text/html": [
              "<style>\n",
              "    body {\n",
              "      font-size: 24px;\n",
              "    }\n",
              "  "
            ],
            "text/plain": [
              "<IPython.core.display.HTML object>"
            ]
          },
          "metadata": {},
          "output_type": "display_data"
        },
        {
          "data": {
            "text/plain": [
              "torch.Size([2, 256, 8, 8])"
            ]
          },
          "execution_count": 22,
          "metadata": {},
          "output_type": "execute_result"
        }
      ],
      "source": [
        "decoder_block = DecoderBlock(in_channels=512, out_channels=256, dropout=False)\n",
        "tmp = decoder_block(torch.randn(2, 512, 4, 4))\n",
        "tmp.shape"
      ]
    },
    {
      "cell_type": "markdown",
      "metadata": {
        "id": "6O2O7IqbPSJ4"
      },
      "source": [
        "### 🟡 U-Net"
      ]
    },
    {
      "cell_type": "code",
      "execution_count": null,
      "metadata": {
        "colab": {
          "base_uri": "https://localhost:8080/",
          "height": 17
        },
        "id": "d09evimmOx2m",
        "outputId": "e9d073bf-f08c-4922-fed6-fa395b2fc093"
      },
      "outputs": [
        {
          "data": {
            "text/html": [
              "<style>\n",
              "    body {\n",
              "      font-size: 24px;\n",
              "    }\n",
              "  "
            ],
            "text/plain": [
              "<IPython.core.display.HTML object>"
            ]
          },
          "metadata": {},
          "output_type": "display_data"
        }
      ],
      "source": [
        "class Generator(nn.Module):\n",
        "\n",
        "  def __init__(self, in_channels=13):\n",
        "    super().__init__()\n",
        "\n",
        "    # Encoder\n",
        "    # self.encoders = nn.ModuleList([\n",
        "    #     EncoderBlock(3, 64, kernel_size=4, batchnorm=False),\n",
        "    #     EncoderBlock(64, 128, kernel_size=4, batchnorm=True),\n",
        "    #     EncoderBlock(128, 256, kernel_size=4, batchnorm=True),\n",
        "    #     EncoderBlock(256, 512, kernel_size=4, batchnorm=True),\n",
        "    #     EncoderBlock(512, 512, kernel_size=4, batchnorm=True),\n",
        "    #     EncoderBlock(512, 512, kernel_size=4, batchnorm=True),\n",
        "    #     EncoderBlock(512, 512, kernel_size=4, batchnorm=True),\n",
        "    #     EncoderBlock(512, 512, kernel_size=4, batchnorm=True),\n",
        "    #     ])\n",
        "    nc = [in_channels, 64, 128, 256, 512, 512, 512, 512, 512]\n",
        "    self.encoders = nn.ModuleList([\n",
        "        EncoderBlock(nc[i-1], nc[i], batchnorm=False if i==1 else True) for i in range(1, len(nc))\n",
        "    ])\n",
        "\n",
        "    # Decoder\n",
        "    # self.decoders = nn.ModuleList([\n",
        "    #     DecoderBlock(512, 512, kernel_size=4, dropout=True),\n",
        "    #     DecoderBlock(512, 512, kernel_size=4, dropout=True),\n",
        "    #     DecoderBlock(512, 512, kernel_size=4, dropout=True),\n",
        "    #     DecoderBlock(512, 512, kernel_size=4, dropout=False),\n",
        "    #     DecoderBlock(512, 256, kernel_size=4, dropout=False),\n",
        "    #     DecoderBlock(256, 128, kernel_size=4, dropout=False),\n",
        "    #     DecoderBlock(128, 64, kernel_size=4, dropout=False)\n",
        "    #     ])\n",
        "    nc.reverse()\n",
        "    self.decoders = nn.ModuleList([\n",
        "        DecoderBlock(2*nc[i-1] if i>1 else nc[i-1], nc[i], dropout=True if i<4 else False) for i in range(1, len(nc[:-1]))\n",
        "    ])\n",
        "\n",
        "    self.last = nn.ConvTranspose2d(128, 3, kernel_size=4, stride=2, padding=1)\n",
        "    self.tanh = nn.Tanh()\n",
        "\n",
        "  def forward(self, x, c):\n",
        "    # Concat\n",
        "    _, _, h, w = x.shape\n",
        "    c = c.repeat(1, 1, h, w)\n",
        "    x = torch.cat((x, c), dim=1)\n",
        "\n",
        "    # Encoder\n",
        "    skips = []\n",
        "    for encoder in self.encoders:\n",
        "      x = encoder(x)\n",
        "      skips.append(x)\n",
        "\n",
        "    skips = reversed(skips[:-1])\n",
        "\n",
        "    # Decoder\n",
        "    for decoder, skip in zip(self.decoders, skips):\n",
        "      x = decoder(x)\n",
        "      x = torch.cat((x, skip), 1)\n",
        "\n",
        "    out = self.last(x)\n",
        "    out = self.tanh(out)\n",
        "\n",
        "    return out"
      ]
    },
    {
      "cell_type": "code",
      "execution_count": null,
      "metadata": {
        "colab": {
          "base_uri": "https://localhost:8080/",
          "height": 48
        },
        "id": "BL1vrgHoOxx6",
        "outputId": "743477d8-643c-45cc-a611-3037488489a4"
      },
      "outputs": [
        {
          "data": {
            "text/html": [
              "<style>\n",
              "    body {\n",
              "      font-size: 24px;\n",
              "    }\n",
              "  "
            ],
            "text/plain": [
              "<IPython.core.display.HTML object>"
            ]
          },
          "metadata": {},
          "output_type": "display_data"
        },
        {
          "data": {
            "text/plain": [
              "torch.Size([2, 3, 256, 256])"
            ]
          },
          "execution_count": 24,
          "metadata": {},
          "output_type": "execute_result"
        }
      ],
      "source": [
        "generator = Generator(in_channels=13)\n",
        "tmp = generator(torch.randn(2, 3, 256, 256), torch.randn(2, 10, 1, 1))\n",
        "tmp.shape"
      ]
    },
    {
      "cell_type": "code",
      "execution_count": null,
      "metadata": {
        "colab": {
          "base_uri": "https://localhost:8080/",
          "height": 1000
        },
        "id": "KruPmmTNEeBJ",
        "outputId": "5734b3fb-7dcc-45e0-d7af-3652ef9b9c46"
      },
      "outputs": [
        {
          "data": {
            "text/html": [
              "<style>\n",
              "    body {\n",
              "      font-size: 24px;\n",
              "    }\n",
              "  "
            ],
            "text/plain": [
              "<IPython.core.display.HTML object>"
            ]
          },
          "metadata": {},
          "output_type": "display_data"
        },
        {
          "data": {
            "text/plain": [
              "Generator(\n",
              "  (encoders): ModuleList(\n",
              "    (0): EncoderBlock(\n",
              "      (conv): Conv2d(13, 64, kernel_size=(4, 4), stride=(2, 2), padding=(1, 1), bias=False)\n",
              "      (af): LeakyReLU(negative_slope=0.2, inplace=True)\n",
              "    )\n",
              "    (1): EncoderBlock(\n",
              "      (conv): Conv2d(64, 128, kernel_size=(4, 4), stride=(2, 2), padding=(1, 1), bias=False)\n",
              "      (bn): BatchNorm2d(128, eps=1e-05, momentum=0.1, affine=True, track_running_stats=True)\n",
              "      (af): LeakyReLU(negative_slope=0.2, inplace=True)\n",
              "    )\n",
              "    (2): EncoderBlock(\n",
              "      (conv): Conv2d(128, 256, kernel_size=(4, 4), stride=(2, 2), padding=(1, 1), bias=False)\n",
              "      (bn): BatchNorm2d(256, eps=1e-05, momentum=0.1, affine=True, track_running_stats=True)\n",
              "      (af): LeakyReLU(negative_slope=0.2, inplace=True)\n",
              "    )\n",
              "    (3): EncoderBlock(\n",
              "      (conv): Conv2d(256, 512, kernel_size=(4, 4), stride=(2, 2), padding=(1, 1), bias=False)\n",
              "      (bn): BatchNorm2d(512, eps=1e-05, momentum=0.1, affine=True, track_running_stats=True)\n",
              "      (af): LeakyReLU(negative_slope=0.2, inplace=True)\n",
              "    )\n",
              "    (4-7): 4 x EncoderBlock(\n",
              "      (conv): Conv2d(512, 512, kernel_size=(4, 4), stride=(2, 2), padding=(1, 1), bias=False)\n",
              "      (bn): BatchNorm2d(512, eps=1e-05, momentum=0.1, affine=True, track_running_stats=True)\n",
              "      (af): LeakyReLU(negative_slope=0.2, inplace=True)\n",
              "    )\n",
              "  )\n",
              "  (decoders): ModuleList(\n",
              "    (0): DecoderBlock(\n",
              "      (tconv): ConvTranspose2d(512, 512, kernel_size=(4, 4), stride=(2, 2), padding=(1, 1), bias=False)\n",
              "      (bn): BatchNorm2d(512, eps=1e-05, momentum=0.1, affine=True, track_running_stats=True)\n",
              "      (dropout): Dropout(p=0.5, inplace=False)\n",
              "      (af): ReLU()\n",
              "    )\n",
              "    (1-2): 2 x DecoderBlock(\n",
              "      (tconv): ConvTranspose2d(1024, 512, kernel_size=(4, 4), stride=(2, 2), padding=(1, 1), bias=False)\n",
              "      (bn): BatchNorm2d(512, eps=1e-05, momentum=0.1, affine=True, track_running_stats=True)\n",
              "      (dropout): Dropout(p=0.5, inplace=False)\n",
              "      (af): ReLU()\n",
              "    )\n",
              "    (3): DecoderBlock(\n",
              "      (tconv): ConvTranspose2d(1024, 512, kernel_size=(4, 4), stride=(2, 2), padding=(1, 1), bias=False)\n",
              "      (bn): BatchNorm2d(512, eps=1e-05, momentum=0.1, affine=True, track_running_stats=True)\n",
              "      (af): ReLU()\n",
              "    )\n",
              "    (4): DecoderBlock(\n",
              "      (tconv): ConvTranspose2d(1024, 256, kernel_size=(4, 4), stride=(2, 2), padding=(1, 1), bias=False)\n",
              "      (bn): BatchNorm2d(256, eps=1e-05, momentum=0.1, affine=True, track_running_stats=True)\n",
              "      (af): ReLU()\n",
              "    )\n",
              "    (5): DecoderBlock(\n",
              "      (tconv): ConvTranspose2d(512, 128, kernel_size=(4, 4), stride=(2, 2), padding=(1, 1), bias=False)\n",
              "      (bn): BatchNorm2d(128, eps=1e-05, momentum=0.1, affine=True, track_running_stats=True)\n",
              "      (af): ReLU()\n",
              "    )\n",
              "    (6): DecoderBlock(\n",
              "      (tconv): ConvTranspose2d(256, 64, kernel_size=(4, 4), stride=(2, 2), padding=(1, 1), bias=False)\n",
              "      (bn): BatchNorm2d(64, eps=1e-05, momentum=0.1, affine=True, track_running_stats=True)\n",
              "      (af): ReLU()\n",
              "    )\n",
              "  )\n",
              "  (last): ConvTranspose2d(128, 3, kernel_size=(4, 4), stride=(2, 2), padding=(1, 1))\n",
              "  (tanh): Tanh()\n",
              ")"
            ]
          },
          "execution_count": 25,
          "metadata": {},
          "output_type": "execute_result"
        }
      ],
      "source": [
        "generator"
      ]
    },
    {
      "cell_type": "markdown",
      "metadata": {
        "id": "E6tM682sPBkc"
      },
      "source": [
        "## 🟠 Discriminator"
      ]
    },
    {
      "cell_type": "markdown",
      "metadata": {
        "id": "CFlafO3mPgK4"
      },
      "source": [
        "### 🟡 Basic block"
      ]
    },
    {
      "cell_type": "code",
      "execution_count": null,
      "metadata": {
        "colab": {
          "base_uri": "https://localhost:8080/",
          "height": 17
        },
        "id": "p9qPwElQOxqo",
        "outputId": "265ffc19-212a-4b95-98eb-67999e34761b"
      },
      "outputs": [
        {
          "data": {
            "text/html": [
              "<style>\n",
              "    body {\n",
              "      font-size: 24px;\n",
              "    }\n",
              "  "
            ],
            "text/plain": [
              "<IPython.core.display.HTML object>"
            ]
          },
          "metadata": {},
          "output_type": "display_data"
        }
      ],
      "source": [
        "class BasicBlock(nn.Module):\n",
        "\n",
        "  def __init__(self, in_channels, out_channels, kernel_size=4, batchnorm=True):\n",
        "    super().__init__()\n",
        "    self.conv = nn.Conv2d(in_channels, out_channels, kernel_size, stride=2, padding=1, bias=False)\n",
        "    self.bn = nn.BatchNorm2d(out_channels) if batchnorm else None\n",
        "    self.af = nn.LeakyReLU(0.2, inplace=True)\n",
        "\n",
        "  def forward(self, x):\n",
        "    x = self.conv(x)\n",
        "    if self.bn:\n",
        "      x = self.bn(x)\n",
        "    x = self.af(x)\n",
        "    return x"
      ]
    },
    {
      "cell_type": "code",
      "execution_count": null,
      "metadata": {
        "colab": {
          "base_uri": "https://localhost:8080/"
        },
        "id": "sRhejDyNPr8c",
        "outputId": "f7587eea-a8e2-4fcf-8d4f-ea6cce8abe6f"
      },
      "outputs": [
        {
          "data": {
            "text/html": [
              "<style>\n",
              "    body {\n",
              "      font-size: 24px;\n",
              "    }\n",
              "  "
            ],
            "text/plain": [
              "<IPython.core.display.HTML object>"
            ]
          },
          "metadata": {},
          "output_type": "display_data"
        },
        {
          "data": {
            "text/plain": [
              "torch.Size([1, 64, 128, 128])"
            ]
          },
          "execution_count": 27,
          "metadata": {},
          "output_type": "execute_result"
        }
      ],
      "source": [
        "basic_block = BasicBlock(in_channels=3, out_channels=64, kernel_size=4, batchnorm=True)\n",
        "with torch.no_grad():\n",
        "  tmp = basic_block(torch.randn(1, 3, 256, 256))\n",
        "tmp.shape"
      ]
    },
    {
      "cell_type": "markdown",
      "metadata": {
        "id": "gPUDLmjcPuoU"
      },
      "source": [
        "### 🟡 Main network"
      ]
    },
    {
      "cell_type": "code",
      "execution_count": null,
      "metadata": {
        "colab": {
          "base_uri": "https://localhost:8080/",
          "height": 17
        },
        "id": "AOAXNh5wPsmF",
        "outputId": "d1f0e248-7280-45ee-df05-58f35a50bad3"
      },
      "outputs": [
        {
          "data": {
            "text/html": [
              "<style>\n",
              "    body {\n",
              "      font-size: 24px;\n",
              "    }\n",
              "  "
            ],
            "text/plain": [
              "<IPython.core.display.HTML object>"
            ]
          },
          "metadata": {},
          "output_type": "display_data"
        }
      ],
      "source": [
        "class Discriminator(nn.Module):\n",
        "\n",
        "  def __init__(self, in_channels=16):\n",
        "    super().__init__()\n",
        "    nc = [in_channels, 64, 128, 256]\n",
        "    self.layers = nn.ModuleList([\n",
        "        EncoderBlock(nc[i-1], nc[i], batchnorm=True if i>1 else False) for i in range(1, len(nc))\n",
        "    ])\n",
        "\n",
        "    self.layers += nn.Sequential(\n",
        "        nn.ZeroPad2d(padding=1),\n",
        "        nn.Conv2d(256, 512, kernel_size=4, bias=False),\n",
        "        nn.BatchNorm2d(512),\n",
        "        nn.LeakyReLU(0.2))\n",
        "\n",
        "    self.layers += nn.Sequential(\n",
        "        nn.ZeroPad2d(1),\n",
        "        nn.Conv2d(512, 1, kernel_size=4)\n",
        "    )\n",
        "\n",
        "  def forward(self, x, y, c):\n",
        "    # Concat\n",
        "    _, _, h, w = x.shape\n",
        "    c = c.repeat(1, 1, h, w)\n",
        "    x = torch.cat((x, y, c), dim=1)\n",
        "\n",
        "    for layer in self.layers:\n",
        "      x = layer(x)\n",
        "    return x"
      ]
    },
    {
      "cell_type": "code",
      "execution_count": null,
      "metadata": {
        "colab": {
          "base_uri": "https://localhost:8080/",
          "height": 48
        },
        "id": "AVql2uxnOxdl",
        "outputId": "05e4d874-2fc2-4860-94e2-34c90068ff69"
      },
      "outputs": [
        {
          "data": {
            "text/html": [
              "<style>\n",
              "    body {\n",
              "      font-size: 24px;\n",
              "    }\n",
              "  "
            ],
            "text/plain": [
              "<IPython.core.display.HTML object>"
            ]
          },
          "metadata": {},
          "output_type": "display_data"
        },
        {
          "data": {
            "text/plain": [
              "torch.Size([2, 1, 30, 30])"
            ]
          },
          "execution_count": 28,
          "metadata": {},
          "output_type": "execute_result"
        }
      ],
      "source": [
        "discriminator = Discriminator(in_channels=16)\n",
        "tmp = discriminator(torch.randn(2, 3, 256, 256), torch.randn(2, 3, 256, 256), torch.randn(2, 10, 1, 1))\n",
        "tmp.shape"
      ]
    },
    {
      "cell_type": "markdown",
      "metadata": {
        "id": "PgD3IkKvSHPh"
      },
      "source": [
        "## 🟠 Final"
      ]
    },
    {
      "cell_type": "code",
      "execution_count": null,
      "metadata": {
        "colab": {
          "base_uri": "https://localhost:8080/",
          "height": 17
        },
        "id": "Tv2fIMnOSAax",
        "outputId": "2ed0107b-101b-49bb-dca4-0ef39a05b56c"
      },
      "outputs": [
        {
          "data": {
            "text/html": [
              "<style>\n",
              "    body {\n",
              "      font-size: 24px;\n",
              "    }\n",
              "  "
            ],
            "text/plain": [
              "<IPython.core.display.HTML object>"
            ]
          },
          "metadata": {},
          "output_type": "display_data"
        }
      ],
      "source": [
        "generator = Generator(in_channels=13)\n",
        "discriminator = Discriminator(in_channels=16)"
      ]
    },
    {
      "cell_type": "markdown",
      "metadata": {
        "id": "24qT-sgUO2-d"
      },
      "source": [
        "# 🔴 **Config**"
      ]
    },
    {
      "cell_type": "markdown",
      "metadata": {
        "id": "Brq1nSNtdspp"
      },
      "source": [
        "## 🟠 Loss"
      ]
    },
    {
      "cell_type": "markdown",
      "metadata": {
        "id": "5xprMo-0eSjX"
      },
      "source": [
        "### 🟡 Generator"
      ]
    },
    {
      "cell_type": "code",
      "execution_count": null,
      "metadata": {
        "colab": {
          "base_uri": "https://localhost:8080/",
          "height": 17
        },
        "id": "arxmPCuSFe6R",
        "outputId": "8af171fc-e42a-4b48-8a11-cb24718ac6ff"
      },
      "outputs": [
        {
          "data": {
            "text/html": [
              "<style>\n",
              "    body {\n",
              "      font-size: 24px;\n",
              "    }\n",
              "  "
            ],
            "text/plain": [
              "<IPython.core.display.HTML object>"
            ]
          },
          "metadata": {},
          "output_type": "display_data"
        }
      ],
      "source": [
        "class GeneratorLoss(nn.Module):\n",
        "\n",
        "  def __init__(self, LAMBDA=100):\n",
        "    super().__init__()\n",
        "    self.LAMBDA = LAMBDA\n",
        "    self.l1 = nn.L1Loss()\n",
        "    self.bce = nn.BCEWithLogitsLoss()\n",
        "\n",
        "  def forward(self, disc_generated_output, gen_output, target):\n",
        "    l1_loss = self.l1(gen_output, target)\n",
        "\n",
        "    all_ones = torch.ones_like(disc_generated_output)\n",
        "    gan_loss = self.bce(disc_generated_output, all_ones)\n",
        "\n",
        "    total_gan_loss = gan_loss + self.LAMBDA * l1_loss\n",
        "\n",
        "    return total_gan_loss"
      ]
    },
    {
      "cell_type": "code",
      "execution_count": null,
      "metadata": {
        "colab": {
          "base_uri": "https://localhost:8080/",
          "height": 140
        },
        "id": "WlE1XWY4eiZ8",
        "outputId": "526c81bd-7ee9-4234-fc14-ceab859f04f5"
      },
      "outputs": [
        {
          "data": {
            "text/html": [
              "<style>\n",
              "    body {\n",
              "      font-size: 24px;\n",
              "    }\n",
              "  "
            ],
            "text/plain": [
              "<IPython.core.display.HTML object>"
            ]
          },
          "metadata": {},
          "output_type": "display_data"
        },
        {
          "data": {
            "text/plain": [
              "GeneratorLoss(\n",
              "  (l1): L1Loss()\n",
              "  (bce): BCEWithLogitsLoss()\n",
              ")"
            ]
          },
          "execution_count": 36,
          "metadata": {},
          "output_type": "execute_result"
        }
      ],
      "source": [
        "loss_g = GeneratorLoss(LAMBDA=100)\n",
        "loss_g"
      ]
    },
    {
      "cell_type": "markdown",
      "metadata": {
        "id": "_fOsh46FeVe_"
      },
      "source": [
        "### 🟡 Discriminator"
      ]
    },
    {
      "cell_type": "code",
      "execution_count": null,
      "metadata": {
        "colab": {
          "base_uri": "https://localhost:8080/",
          "height": 17
        },
        "id": "0VqqOko5ePs5",
        "outputId": "a3700eae-3ce4-46ce-c230-f7230e045a31"
      },
      "outputs": [
        {
          "data": {
            "text/html": [
              "<style>\n",
              "    body {\n",
              "      font-size: 24px;\n",
              "    }\n",
              "  "
            ],
            "text/plain": [
              "<IPython.core.display.HTML object>"
            ]
          },
          "metadata": {},
          "output_type": "display_data"
        }
      ],
      "source": [
        "class DiscriminatorLoss(nn.Module):\n",
        "\n",
        "  def __init__(self):\n",
        "    super().__init__()\n",
        "    self.bce = nn.BCEWithLogitsLoss()\n",
        "\n",
        "  def forward(self, disc_real_output, disc_generated_output):\n",
        "    all_ones = torch.ones_like(disc_real_output)\n",
        "    real_loss = self.bce(disc_real_output, all_ones)\n",
        "\n",
        "    all_zeros = torch.zeros_like(disc_generated_output)\n",
        "    generated_loss = self.bce(disc_generated_output, all_zeros)\n",
        "\n",
        "    total_disc_loss = real_loss + generated_loss\n",
        "\n",
        "    return total_disc_loss"
      ]
    },
    {
      "cell_type": "code",
      "execution_count": null,
      "metadata": {
        "colab": {
          "base_uri": "https://localhost:8080/",
          "height": 109
        },
        "id": "s25dBsnQFVqL",
        "outputId": "553edd20-3d10-473c-b7dc-61297d7103ae"
      },
      "outputs": [
        {
          "data": {
            "text/html": [
              "<style>\n",
              "    body {\n",
              "      font-size: 24px;\n",
              "    }\n",
              "  "
            ],
            "text/plain": [
              "<IPython.core.display.HTML object>"
            ]
          },
          "metadata": {},
          "output_type": "display_data"
        },
        {
          "data": {
            "text/plain": [
              "DiscriminatorLoss(\n",
              "  (bce): BCEWithLogitsLoss()\n",
              ")"
            ]
          },
          "execution_count": 39,
          "metadata": {},
          "output_type": "execute_result"
        }
      ],
      "source": [
        "loss_d = DiscriminatorLoss()\n",
        "loss_d"
      ]
    },
    {
      "cell_type": "markdown",
      "metadata": {
        "id": "Lt3fqWX_dxGJ"
      },
      "source": [
        "## 🟠 Optimizer"
      ]
    },
    {
      "cell_type": "code",
      "execution_count": null,
      "metadata": {
        "colab": {
          "base_uri": "https://localhost:8080/"
        },
        "id": "rNp4usz4FT2I",
        "outputId": "bf84ed4e-9cdf-4c9c-a0b4-34422891b11d"
      },
      "outputs": [
        {
          "data": {
            "text/html": [
              "<style>\n",
              "    body {\n",
              "      font-size: 24px;\n",
              "    }\n",
              "  "
            ],
            "text/plain": [
              "<IPython.core.display.HTML object>"
            ]
          },
          "metadata": {},
          "output_type": "display_data"
        }
      ],
      "source": [
        "optimizer_g = optim.Adam(generator.parameters(), lr=2e-4, betas=(0.5, 0.999))\n",
        "optimizer_d = optim.Adam(discriminator.parameters(), lr=2e-4, betas=(0.5, 0.999))"
      ]
    },
    {
      "cell_type": "markdown",
      "metadata": {
        "id": "W0QNbC0YPCKZ"
      },
      "source": [
        "# 🔴 **Train ➰**"
      ]
    },
    {
      "cell_type": "markdown",
      "metadata": {
        "id": "XmJeJ6cwZxc1"
      },
      "source": [
        "## 🟠 Train Function"
      ]
    },
    {
      "cell_type": "markdown",
      "metadata": {
        "id": "yS6EF4HUhi5e"
      },
      "source": [
        "🔰 This is the template for train function, change it if needed."
      ]
    },
    {
      "cell_type": "code",
      "execution_count": null,
      "metadata": {
        "colab": {
          "base_uri": "https://localhost:8080/"
        },
        "id": "WniOAgk0QyRI",
        "outputId": "2ef3efa5-b98d-4360-8c3d-04741d4eeeed"
      },
      "outputs": [
        {
          "data": {
            "text/html": [
              "<style>\n",
              "    body {\n",
              "      font-size: 24px;\n",
              "    }\n",
              "  "
            ],
            "text/plain": [
              "<IPython.core.display.HTML object>"
            ]
          },
          "metadata": {},
          "output_type": "display_data"
        }
      ],
      "source": [
        "def train_one_epoch(generator, discriminator,\n",
        "                    train_loader,\n",
        "                    generator_loss_fn, discriminator_loss_fn,\n",
        "                    generator_optimizer, discriminator_optimizer,\n",
        "                    epoch=None):\n",
        "\n",
        "  generator.train()\n",
        "  discriminator.train()\n",
        "\n",
        "  gen_total_loss, disc_total_loss = MeanMetric(), MeanMetric()\n",
        "\n",
        "  with tqdm.tqdm(train_loader, unit='batch') as tepoch:\n",
        "    for inputs, targets, conditions in tepoch:\n",
        "      if epoch:\n",
        "        tepoch.set_description(f'Epoch {epoch}')\n",
        "\n",
        "      inputs = inputs.to(device)\n",
        "      targets = targets.to(device)\n",
        "      conditions = conditions.to(device)\n",
        "\n",
        "      # Generator's loss\n",
        "      gen_outputs = generator(inputs, conditions)\n",
        "      disc_gen_outputs = discriminator(inputs, gen_outputs, conditions)\n",
        "      gen_loss = generator_loss_fn(disc_gen_outputs, gen_outputs, targets)\n",
        "\n",
        "      # Discriminator's loss\n",
        "      # with torch.no_grad():\n",
        "      #   gen_outputs = generator(inputs, conditions)\n",
        "      # gen_outputs = gen_outputs.detach()\n",
        "      gen_outputs = generator(inputs, conditions).detach()\n",
        "      disc_gen_outputs = discriminator(inputs, gen_outputs, conditions)\n",
        "      disc_real_outputs = discriminator(inputs, targets, conditions)\n",
        "      disc_loss = discriminator_loss_fn(disc_real_outputs, disc_gen_outputs)\n",
        "\n",
        "      # Generator's params update\n",
        "      generator_optimizer.zero_grad()\n",
        "      gen_loss.backward()\n",
        "      generator_optimizer.step()\n",
        "\n",
        "      # Discriminator's params update\n",
        "      discriminator_optimizer.zero_grad()\n",
        "      disc_loss.backward()\n",
        "      discriminator_optimizer.step()\n",
        "\n",
        "      gen_total_loss.update(gen_loss.item(), weight=len(inputs))\n",
        "      disc_total_loss.update(disc_loss.item(), weight=len(inputs))\n",
        "\n",
        "      tepoch.set_postfix(\n",
        "          lossG=gen_total_loss.compute().item(),\n",
        "          lossD=disc_total_loss.compute().item()\n",
        "          )\n",
        "\n",
        "  return gen_total_loss.compute().item(), disc_total_loss.compute().item()"
      ]
    },
    {
      "cell_type": "markdown",
      "metadata": {
        "id": "G9HgVWslPGsH"
      },
      "source": [
        "# 🔴 **Evaluation**"
      ]
    },
    {
      "cell_type": "markdown",
      "metadata": {
        "id": "TsszJ7GVj2l3"
      },
      "source": [
        "🔰 This is the template for evaluation function, change it if needed."
      ]
    },
    {
      "cell_type": "code",
      "execution_count": null,
      "metadata": {
        "colab": {
          "base_uri": "https://localhost:8080/"
        },
        "id": "uV0_67_ZQ0xf",
        "outputId": "eadad186-47cc-4280-ff45-f98cf5f47204"
      },
      "outputs": [
        {
          "data": {
            "text/html": [
              "<style>\n",
              "    body {\n",
              "      font-size: 24px;\n",
              "    }\n",
              "  "
            ],
            "text/plain": [
              "<IPython.core.display.HTML object>"
            ]
          },
          "metadata": {},
          "output_type": "display_data"
        }
      ],
      "source": [
        "def evaluate(generator, test_loader, loss_fn):\n",
        "\n",
        "  loss_eval = MeanMetric()\n",
        "\n",
        "  with torch.inference_mode():\n",
        "    for inputs, targets, conditions in test_loader:\n",
        "\n",
        "      inputs = inputs.to(device)\n",
        "      targets = targets.to(device)\n",
        "      conditions = conditions.to(device)\n",
        "\n",
        "      outputs = generator(inputs, conditions)\n",
        "\n",
        "      loss = loss_fn(outputs, targets)\n",
        "      loss_eval.update(loss.item(), weight=len(targets))\n",
        "\n",
        "  return loss_eval.compute().item()"
      ]
    },
    {
      "cell_type": "markdown",
      "metadata": {
        "id": "cxGChUWG8uyx"
      },
      "source": [
        "# 🔴 **Generate**"
      ]
    },
    {
      "cell_type": "code",
      "execution_count": null,
      "metadata": {
        "colab": {
          "base_uri": "https://localhost:8080/"
        },
        "id": "7Gy716iB8uzG",
        "outputId": "5ac34c8c-a249-4be9-ea3f-c7f788962fa5"
      },
      "outputs": [
        {
          "data": {
            "text/html": [
              "<style>\n",
              "    body {\n",
              "      font-size: 24px;\n",
              "    }\n",
              "  "
            ],
            "text/plain": [
              "<IPython.core.display.HTML object>"
            ]
          },
          "metadata": {},
          "output_type": "display_data"
        }
      ],
      "source": [
        "def generate(generator, valid_loader, filename='img.png'):\n",
        "\n",
        "  inputs, targets, conditions = next(iter(valid_loader))\n",
        "  inputs = inputs.to(device)\n",
        "  conditions = conditions.to(device)\n",
        "\n",
        "  with torch.inference_mode():\n",
        "    outputs = generator(inputs, conditions)\n",
        "\n",
        "  outputs = (255*(0.5*outputs + 0.5)).byte().cpu()\n",
        "  targets = (255*(0.5*targets + 0.5)).byte().cpu()\n",
        "\n",
        "  imgs = [t for t in targets] + [o for o in outputs]\n",
        "  grid = make_grid(imgs, nrow=10)\n",
        "\n",
        "  io.write_png(grid, filename)"
      ]
    },
    {
      "cell_type": "code",
      "execution_count": null,
      "metadata": {
        "colab": {
          "base_uri": "https://localhost:8080/"
        },
        "id": "xobXfcXF-O2k",
        "outputId": "687a9e58-577c-4e68-b7c2-bacd24212ed6"
      },
      "outputs": [
        {
          "data": {
            "text/html": [
              "<style>\n",
              "    body {\n",
              "      font-size: 24px;\n",
              "    }\n",
              "  "
            ],
            "text/plain": [
              "<IPython.core.display.HTML object>"
            ]
          },
          "metadata": {},
          "output_type": "display_data"
        }
      ],
      "source": [
        "generate(generator.cuda(), valid_loader)"
      ]
    },
    {
      "cell_type": "markdown",
      "metadata": {
        "id": "o_5f69nwPtY2"
      },
      "source": [
        "# 🔴 **Training Process 〽️**"
      ]
    },
    {
      "cell_type": "markdown",
      "metadata": {
        "id": "rjGQ-M02cusP"
      },
      "source": [
        "## 🟠 Main Loop"
      ]
    },
    {
      "cell_type": "code",
      "execution_count": null,
      "metadata": {
        "colab": {
          "base_uri": "https://localhost:8080/",
          "height": 17
        },
        "id": "vttGOuocRL2Z",
        "outputId": "4e30e5c1-b19c-4b1b-fd49-dbb708ba9971"
      },
      "outputs": [
        {
          "data": {
            "text/html": [
              "<style>\n",
              "    body {\n",
              "      font-size: 24px;\n",
              "    }\n",
              "  "
            ],
            "text/plain": [
              "<IPython.core.display.HTML object>"
            ]
          },
          "metadata": {},
          "output_type": "display_data"
        }
      ],
      "source": [
        "torch.cuda.empty_cache()"
      ]
    },
    {
      "cell_type": "markdown",
      "metadata": {
        "id": "4AdYaMU4x34g"
      },
      "source": [
        "🔰 Define model."
      ]
    },
    {
      "cell_type": "code",
      "execution_count": null,
      "metadata": {
        "colab": {
          "base_uri": "https://localhost:8080/",
          "height": 17
        },
        "id": "b9ghbXUwRaqM",
        "outputId": "6afd4282-9c30-4a11-9bf4-99c4fdbd3ee6"
      },
      "outputs": [
        {
          "data": {
            "text/html": [
              "<style>\n",
              "    body {\n",
              "      font-size: 24px;\n",
              "    }\n",
              "  "
            ],
            "text/plain": [
              "<IPython.core.display.HTML object>"
            ]
          },
          "metadata": {},
          "output_type": "display_data"
        }
      ],
      "source": [
        "set_seed(seed)\n",
        "\n",
        "generator = Generator(in_channels=13).to(device)\n",
        "discriminator = Discriminator(in_channels=16).to(device)"
      ]
    },
    {
      "cell_type": "markdown",
      "metadata": {
        "id": "AUKZRiQPxqrB"
      },
      "source": [
        "🔰 Define loss functions."
      ]
    },
    {
      "cell_type": "code",
      "execution_count": null,
      "metadata": {
        "colab": {
          "base_uri": "https://localhost:8080/",
          "height": 17
        },
        "id": "dFpzxhuqRdM0",
        "outputId": "9a41b4aa-6c82-4f4e-9065-1a4eceab1cad"
      },
      "outputs": [
        {
          "data": {
            "text/html": [
              "<style>\n",
              "    body {\n",
              "      font-size: 24px;\n",
              "    }\n",
              "  "
            ],
            "text/plain": [
              "<IPython.core.display.HTML object>"
            ]
          },
          "metadata": {},
          "output_type": "display_data"
        }
      ],
      "source": [
        "gen_loss_fn = GeneratorLoss(LAMBDA=100)\n",
        "disc_loss_fn = DiscriminatorLoss()"
      ]
    },
    {
      "cell_type": "markdown",
      "metadata": {
        "id": "OI1FCxHRNUsx"
      },
      "source": [
        "🔰 Define optimizers and Set learning rate and weight decay."
      ]
    },
    {
      "cell_type": "code",
      "execution_count": null,
      "metadata": {
        "colab": {
          "base_uri": "https://localhost:8080/",
          "height": 17
        },
        "id": "gXjM-6JmRfW1",
        "outputId": "becdef01-33a9-41b5-d649-c37a2f642d3b"
      },
      "outputs": [
        {
          "data": {
            "text/html": [
              "<style>\n",
              "    body {\n",
              "      font-size: 24px;\n",
              "    }\n",
              "  "
            ],
            "text/plain": [
              "<IPython.core.display.HTML object>"
            ]
          },
          "metadata": {},
          "output_type": "display_data"
        }
      ],
      "source": [
        "set_seed(seed)\n",
        "\n",
        "lr = 0.0002\n",
        "gen_optimizer = torch.optim.Adam(generator.parameters(), lr=lr, betas=(0.5, 0.999))\n",
        "disc_optimizer = torch.optim.Adam(discriminator.parameters(), lr=lr, betas=(0.5, 0.999))"
      ]
    },
    {
      "cell_type": "markdown",
      "metadata": {
        "id": "AUyFFIzlyaiB"
      },
      "source": [
        "🔰 Write code to train the model for `num_epochs` epoches."
      ]
    },
    {
      "cell_type": "code",
      "execution_count": null,
      "metadata": {
        "colab": {
          "base_uri": "https://localhost:8080/",
          "height": 17
        },
        "id": "CAXagB4yvtZd",
        "outputId": "dd4f4fd7-0b3a-495c-f7ef-69ba8471ac7d"
      },
      "outputs": [
        {
          "data": {
            "text/html": [
              "<style>\n",
              "    body {\n",
              "      font-size: 24px;\n",
              "    }\n",
              "  "
            ],
            "text/plain": [
              "<IPython.core.display.HTML object>"
            ]
          },
          "metadata": {},
          "output_type": "display_data"
        }
      ],
      "source": [
        "loss_gen_hist = []\n",
        "loss_disc_hist = []\n",
        "loss_valid_hist = []\n",
        "\n",
        "best_loss_valid = torch.inf\n",
        "epoch_counter = 0"
      ]
    },
    {
      "cell_type": "code",
      "execution_count": null,
      "metadata": {
        "id": "4CVhhkxBQ95L"
      },
      "outputs": [],
      "source": [
        "num_epochs = 50\n",
        "generate(generator, valid_loader, f'results/img-0.png')\n",
        "\n",
        "for epoch in range(num_epochs):\n",
        "  # Train\n",
        "  gen_loss, disc_loss = train_one_epoch(\n",
        "      generator, discriminator,\n",
        "      train_loader,\n",
        "      gen_loss_fn, disc_loss_fn,\n",
        "      gen_optimizer, disc_optimizer,\n",
        "      epoch+1)\n",
        "\n",
        "  # Validation\n",
        "  loss_valid = evaluate(\n",
        "      generator,\n",
        "      valid_loader,\n",
        "      nn.MSELoss())\n",
        "\n",
        "  generate(generator, valid_loader, f'results/img-{epoch+1}.png')\n",
        "\n",
        "  loss_gen_hist.append(gen_loss)\n",
        "  loss_disc_hist.append(disc_loss)\n",
        "  loss_valid_hist.append(loss_valid)\n",
        "\n",
        "  if loss_valid < best_loss_valid:\n",
        "    torch.save(generator, f'weights/generator-best.pt')\n",
        "    best_loss_valid = loss_valid\n",
        "    print('Generator Saved!')\n",
        "\n",
        "  print(f'Valid: Loss = {loss_valid:.4}')\n",
        "  print()\n",
        "\n",
        "  # if wandb_enable:\n",
        "  #   wandb.log({\"metric_train\": metric_train, \"loss_train\": loss_train,\n",
        "  #               \"metric_valid\": metric_valid, \"loss_valid\": loss_valid})\n",
        "\n",
        "  epoch_counter += 1\n",
        "\n",
        "torch.save(generator, f'generator-last.pt')"
      ]
    },
    {
      "cell_type": "markdown",
      "metadata": {
        "id": "oK20iNRI3Xxb"
      },
      "source": [
        "## 🟠 Plot"
      ]
    },
    {
      "cell_type": "markdown",
      "metadata": {
        "id": "IKlLvCwuzEAA"
      },
      "source": [
        "🔰 Plot learning curves"
      ]
    },
    {
      "cell_type": "code",
      "execution_count": null,
      "metadata": {
        "colab": {
          "base_uri": "https://localhost:8080/",
          "height": 573
        },
        "id": "KYFzTsdIOkVp",
        "outputId": "d50de3ba-6363-4e14-f0fe-09d8e86769c0"
      },
      "outputs": [
        {
          "data": {
            "text/html": [
              "<style>\n",
              "    body {\n",
              "      font-size: 24px;\n",
              "    }\n",
              "  "
            ],
            "text/plain": [
              "<IPython.core.display.HTML object>"
            ]
          },
          "metadata": {},
          "output_type": "display_data"
        },
        {
          "data": {
            "text/plain": [
              "<matplotlib.legend.Legend at 0x25c2c474890>"
            ]
          },
          "execution_count": 64,
          "metadata": {},
          "output_type": "execute_result"
        },
        {
          "data": {
            "image/png": "[encoded data removed]",
            "text/plain": [
              "<Figure size 800x600 with 1 Axes>"
            ]
          },
          "metadata": {},
          "output_type": "display_data"
        }
      ],
      "source": [
        "plt.figure(figsize=(8, 6))\n",
        "\n",
        "plt.plot(range(epoch_counter), loss_gen_hist, 'r-', label='G')\n",
        "plt.plot(range(epoch_counter), loss_disc_hist, 'b-', label='D')\n",
        "\n",
        "plt.xlabel('Epoch')\n",
        "plt.ylabel('loss')\n",
        "plt.grid(True)\n",
        "plt.legend()"
      ]
    }
  ],
  "metadata": {
    "colab": {
      "collapsed_sections": [
        "VrFCH9hpEyip",
        "uWoVZ_MuKif0",
        "w_a3OXnSeV0z",
        "RwaY_YcgRayy",
        "pwlVLNJXfUJw",
        "3in1e9BksgIh",
        "RTql4Ftiunfr",
        "ujIVtjsYvxOI",
        "4xY15BCOWsdT",
        "D-y52c_Ugeqv",
        "B29jrEvwRqXA",
        "PgLgP04P4-aX",
        "E69x9RlblL94",
        "NCQjacybOfqV",
        "3ttl0AK3Hvyh",
        "nk32EYskO6Qx",
        "z49xUsNEPKmC",
        "bYc5TksuPQks",
        "6O2O7IqbPSJ4",
        "E6tM682sPBkc",
        "CFlafO3mPgK4",
        "gPUDLmjcPuoU",
        "PgD3IkKvSHPh",
        "Brq1nSNtdspp",
        "5xprMo-0eSjX",
        "_fOsh46FeVe_",
        "Lt3fqWX_dxGJ",
        "XmJeJ6cwZxc1",
        "G9HgVWslPGsH",
        "cxGChUWG8uyx",
        "oK20iNRI3Xxb"
      ],
      "provenance": [],
      "include_colab_link": true
    },
    "kernelspec": {
      "display_name": "Python 3",
      "name": "python3"
    },
    "language_info": {
      "name": "python"
    }
  },
  "nbformat": 4,
  "nbformat_minor": 0
}